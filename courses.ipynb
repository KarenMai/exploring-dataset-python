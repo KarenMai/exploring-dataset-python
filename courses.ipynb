{
 "cells": [
  {
   "cell_type": "markdown",
   "metadata": {},
   "source": [
    "# Courses Demo\n",
    "This Jupyter notebook is for exploring the data set courses20-21.json\n",
    "which consists of all Brandeis courses in the 20-21 academic year (Fall20, Spr21, Sum21) \n",
    "which had at least 1 student enrolled.\n",
    "\n",
    "First we need to read the json file into a list of Python dictionaries"
   ]
  },
  {
   "cell_type": "code",
   "execution_count": null,
   "metadata": {},
   "outputs": [],
   "source": [
    "import json\n",
    "import statistics"
   ]
  },
  {
   "cell_type": "code",
   "execution_count": null,
   "metadata": {},
   "outputs": [],
   "source": [
    "with open(\"courses20-21.json\",\"r\",encoding='utf-8') as jsonfile:\n",
    "    courses = json.load(jsonfile)"
   ]
  },
  {
   "cell_type": "markdown",
   "metadata": {},
   "source": [
    "## Structure of a course\n",
    "Next we look at the fields of each course dictionary and their values"
   ]
  },
  {
   "cell_type": "code",
   "execution_count": null,
   "metadata": {},
   "outputs": [],
   "source": [
    "print('there are',len(courses),'courses in the dataset')\n",
    "print('here is the data for course 1246')\n",
    "courses[1246]"
   ]
  },
  {
   "cell_type": "markdown",
   "metadata": {},
   "source": [
    "## Cleaning the data\n",
    "If we want to sort courses by instructor or by code, we need to replace the lists with tuples (which are immutable lists)"
   ]
  },
  {
   "cell_type": "code",
   "execution_count": null,
   "metadata": {},
   "outputs": [],
   "source": [
    "for course in courses:\n",
    "        course['instructor'] = tuple(course['instructor'])\n",
    "        course['coinstructors'] = tuple([tuple(f) for f in course['coinstructors']])\n",
    "        course['code']= tuple(course['code'])"
   ]
  },
  {
   "cell_type": "code",
   "execution_count": null,
   "metadata": {},
   "outputs": [],
   "source": [
    "print('notice that the instructor and code are tuples now')\n",
    "courses[1123]"
   ]
  },
  {
   "cell_type": "markdown",
   "metadata": {
    "tags": []
   },
   "source": [
    "# PA01 - Python Data Analysis I\n",
    "Now we will show how to use straight python to explore the data set and answer some interesting questions. Next week we will start learning Pandas/Numpy which are packages that make it easier to explore large dataset efficiently.\n",
    "\n",
    "Here are some questions we can try to asnwer:\n",
    "* how many faculty taught COSI courses last year?\n",
    "* what is the total number of students taking COSI courses last year?\n",
    "* what was the median size of a COSI course last year (counting only those courses with at least 10 students)\n",
    "* create a list of tuples (E,S) where S is a subject and E is the number of students enrolled in courses in that subject, sort it and print the top 10. This shows the top 10 subjects in terms of number of students taught.\n",
    "* do the same as in (d) but print the top 10 subjects in terms of number of courses offered\n",
    "* do the same as (d) but print the top 10 subjects in terms of number of faculty teaching courses in that subject\n",
    "* list the top 20 faculty in terms of number of students they taught\n",
    "* list the top 20 courses in terms of number of students taking that course (where you combine different sections and semesters, i.e. just use the subject and course number)\n",
    "* Create your own interesting question (each team member creates their own) and use Python to answer that question."
   ]
  },
  {
   "cell_type": "code",
   "execution_count": null,
   "metadata": {},
   "outputs": [],
   "source": [
    "#Gillian\n",
    "#how many faculty taught COSI courses last year\n",
    "#used set comprehension to find unique faculty who taught COSI courses\n",
    "num_cosi_instructors = len({c['instructor'] for c in courses if (c['subject'] == 'COSI')})\n",
    "print(num_cosi_instructors)"
   ]
  },
  {
   "cell_type": "code",
   "execution_count": null,
   "metadata": {},
   "outputs": [],
   "source": [
    "#Gillian\n",
    "#total number of students taking COSI courses last year\n",
    "num_cosi_students = sum([e['enrolled'] for e in courses if e['subject'] == 'COSI'])\n",
    "print(num_cosi_students)"
   ]
  },
  {
   "cell_type": "code",
   "execution_count": null,
   "metadata": {},
   "outputs": [],
   "source": [
    "# Gillian\n",
    "#median size of COSI course last year\n",
    "median = statistics.median(e['enrolled'] for e in courses if (e['subject'] == 'COSI') and (e['enrolled'] > 10))\n",
    "print(median)"
   ]
  },
  {
   "cell_type": "code",
   "execution_count": null,
   "metadata": {},
   "outputs": [],
   "source": [
    "# Gillian\n",
    "#create a tuple list (Enrolled,Subject), sort it and print the tuple containing top 10\n",
    "#created empty lists and added elements into them\n",
    "#created tuple by adding elements from each list and sorted it to get top 10\n",
    "subject_list = list(all_subjects)\n",
    "enrolled_by_subject = []\n",
    "es_list = []\n",
    "for s in subject_list:\n",
    "    enrolled_by_subject.append(sum([e['enrolled'] for e in courses if e['subject'] == s]))\n",
    "for i in range(len(subject_list)):\n",
    "    es_list.append((enrolled_by_subject[i], subject_list[i]))\n",
    "es_list.sort(reverse = True)\n",
    "print(es_list[:10])"
   ]
  },
  {
   "cell_type": "code",
   "execution_count": null,
   "metadata": {},
   "outputs": [],
   "source": [
    "# Gillian\n",
    "#create a tuple with top 10 subjects in terms of number of courses offered\n",
    "#used similar approach by creating empty list for subjects and number of courses offered\n",
    "#created tuple by adding elements from these list and sorted it to get the top 10\n",
    "names_by_subject = []\n",
    "ns_list = []\n",
    "for s in subject_list:\n",
    "    names_by_subject.append(len({n['name'] for n in courses if n['subject'] == s}))\n",
    "for i in range(len(subject_list)):\n",
    "    ns_list.append((names_by_subject[i], subject_list[i]))\n",
    "ns_list.sort(reverse = True)\n",
    "print(ns_list[:10])"
   ]
  },
  {
   "cell_type": "code",
   "execution_count": null,
   "metadata": {},
   "outputs": [],
   "source": [
    "#Anjola \n",
    "#create a tuple of top 10 subjects in terms of number of faculty teaching courses in that subject\n",
    "#used empty list for faculty and subject\n",
    "#created tuple by adding elements from these list and sorted it to get the top 10\n",
    "faculty_by_subject = []\n",
    "fs_list = []\n",
    "for s in subject_list:\n",
    "    faculty_by_subject.append(len({f['instructor'] for f in courses if f['subject'] == s}))\n",
    "for i in range(len(subject_list)):\n",
    "    fs_list.append((faculty_by_subject[i], subject_list[i]))\n",
    "fs_list.sort(reverse = True)\n",
    "print(fs_list[:10])"
   ]
  },
  {
   "cell_type": "code",
   "execution_count": null,
   "metadata": {},
   "outputs": [],
   "source": [
    "#Anjola\n",
    "#list the top 20 faculty in terms of number of students they taught\n",
    "#used set comprehension to get unique faculty list\n",
    "#created empty list for enrolled students in courses \n",
    "#created tuple by adding elements from the enrolled list and faculty list\n",
    "#sorted the tuple and used for loop and indexing to access only faculty name\n",
    "all_faculty_list= list({f['instructor'] for f in courses}) \n",
    "top_fs_list = []\n",
    "enrolled_by_subject = []\n",
    "list_of_faculty = []\n",
    "for faculty in all_faculty_list:\n",
    "    enrolled_by_subject.append(sum([e['enrolled'] for e in courses if e['instructor'] == faculty]))\n",
    "for i in range(len(all_faculty_list)):\n",
    "    top_fs_list.append((enrolled_by_subject[i],all_faculty_list[i]))\n",
    "top_fs_list.sort(reverse = True)\n",
    "for f in top_fs_list[:20]:\n",
    "    list_of_faculty.append(f[1][0]+\" \" + f[1][1])\n",
    "print(list_of_faculty)"
   ]
  },
  {
   "cell_type": "code",
   "execution_count": null,
   "metadata": {},
   "outputs": [],
   "source": [
    "#Anjola \n",
    "#list the top 20 courses in terms of number of students taking that course\n",
    "#(where you combine different sections and semesters,\n",
    "#i.e. just use the subject and coursenum)\n",
    "#Similar approach as previous section\n",
    "#created empty list, created tuple by adding elements, sorting the tuple, and using index to just access top 20 courses\n",
    "course_num_list = list({number['name'] for number in courses})\n",
    "student_enrolled_subject_coursenum = []\n",
    "tuple_top_course_list = []\n",
    "top_course_list = []\n",
    "for number in course_num_list:\n",
    "    student_enrolled_subject_coursenum.append(sum([course['enrolled'] for course in courses if course['name'] == number]))\n",
    "\n",
    "for i in range(len(course_num_list)):\n",
    "    tuple_top_course_list.append((student_enrolled_subject_coursenum[i],course_num_list[i]))\n",
    "\n",
    "tuple_top_course_list.sort(reverse = True)\n",
    "for f in tuple_top_course_list[:20]:\n",
    "    top_course_list.append(f[1])\n",
    "    \n",
    "print(top_course_list)"
   ]
  },
  {
   "cell_type": "code",
   "execution_count": null,
   "metadata": {},
   "outputs": [],
   "source": [
    "# find courses that has top 20 highest waitlist\n",
    "# this will allow us to know what we need to start expanding and create more sections\n",
    "# #created empty list, created tuple by adding elements, sorting the tuple, by number of students in waitlist \n",
    "course_list = list({number['name'] for number in courses})\n",
    "student_waitlist_course = []\n",
    "tuple_top_course_list = []\n",
    "top_course_list = []\n",
    "for name in course_num_list:\n",
    "    student_waitlist_course.append(sum([course['waiting'] for course in courses if course['name'] == name]))\n",
    "\n",
    "for i in range(len(course_num_list)):\n",
    "    tuple_top_course_list.append((student_waitlist_course[i],course_num_list[i]))\n",
    "tuple_top_course_list.sort(reverse = True)\n",
    "print(tuple_top_course_list[:20])\n"
   ]
  },
  {
   "cell_type": "code",
   "execution_count": null,
   "metadata": {},
   "outputs": [],
   "source": []
  }
 ],
 "metadata": {
  "kernelspec": {
   "display_name": "Python 3 (ipykernel)",
   "language": "python",
   "name": "python3"
  },
  "language_info": {
   "codemirror_mode": {
    "name": "ipython",
    "version": 3
   },
   "file_extension": ".py",
   "mimetype": "text/x-python",
   "name": "python",
   "nbconvert_exporter": "python",
   "pygments_lexer": "ipython3",
   "version": "3.9.7"
  }
 },
 "nbformat": 4,
 "nbformat_minor": 4
}
