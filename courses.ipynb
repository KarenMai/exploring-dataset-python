{
 "cells": [
  {
   "cell_type": "markdown",
   "metadata": {},
   "source": [
    "# Courses Demo\n",
    "This Jupyter notebook is for exploring the data set courses20-21.json\n",
    "which consists of all Brandeis courses in the 20-21 academic year (Fall20, Spr21, Sum21) \n",
    "which had at least 1 student enrolled.\n",
    "\n",
    "First we need to read the json file into a list of Python dictionaries"
   ]
  },
  {
   "cell_type": "code",
   "execution_count": null,
   "metadata": {},
   "outputs": [],
   "source": [
    "import json\n",
    "import statistics"
   ]
  },
  {
   "cell_type": "code",
   "execution_count": null,
   "metadata": {},
   "outputs": [],
   "source": [
    "with open(\"courses20-21.json\",\"r\",encoding='utf-8') as jsonfile:\n",
    "    courses = json.load(jsonfile)"
   ]
  },
  {
   "cell_type": "markdown",
   "metadata": {},
   "source": [
    "## Structure of a course\n",
    "Next we look at the fields of each course dictionary and their values"
   ]
  },
  {
   "cell_type": "code",
   "execution_count": null,
   "metadata": {},
   "outputs": [
    {
     "name": "stdout",
     "output_type": "stream",
     "text": [
      "there are 7813 courses in the dataset\n",
      "here is the data for course 1246\n"
     ]
    },
    {
     "data": {
      "text/plain": [
       "{'limit': 28,\n",
       " 'times': [{'start': 1080, 'end': 1170, 'days': ['w', 'm']}],\n",
       " 'enrolled': 4,\n",
       " 'details': 'Instruction for this course will be offered remotely. Meeting times for this course are listed in the schedule of classes (in ET).',\n",
       " 'type': 'section',\n",
       " 'status_text': 'Open',\n",
       " 'section': '1',\n",
       " 'waiting': 0,\n",
       " 'instructor': ['An', 'Huang', 'anhuang@brandeis.edu'],\n",
       " 'coinstructors': [],\n",
       " 'code': ['MATH', '223A'],\n",
       " 'subject': 'MATH',\n",
       " 'coursenum': '223A',\n",
       " 'name': 'Lie Algebras: Representation Theory',\n",
       " 'independent_study': False,\n",
       " 'term': '1203',\n",
       " 'description': \"Theorems of Engel and Lie. Semisimple Lie algebras, Cartan's criterion. Universal enveloping algebras, PBW theorem, Serre's construction. Representation theory. Other topics as time permits. Usually offered every second year.\\nAn Huang\"}"
      ]
     },
     "execution_count": 4,
     "metadata": {},
     "output_type": "execute_result"
    }
   ],
   "source": [
    "print('there are',len(courses),'courses in the dataset')\n",
    "print('here is the data for course 1246')\n",
    "courses[1246]"
   ]
  },
  {
   "cell_type": "markdown",
   "metadata": {},
   "source": [
    "## Cleaning the data\n",
    "If we want to sort courses by instructor or by code, we need to replace the lists with tuples (which are immutable lists)"
   ]
  },
  {
   "cell_type": "code",
   "execution_count": null,
   "metadata": {},
   "outputs": [],
   "source": [
    "for course in courses:\n",
    "        course['instructor'] = tuple(course['instructor'])\n",
    "        course['coinstructors'] = tuple([tuple(f) for f in course['coinstructors']])\n",
    "        course['code']= tuple(course['code'])"
   ]
  },
  {
   "cell_type": "code",
   "execution_count": null,
   "metadata": {},
   "outputs": [
    {
     "name": "stdout",
     "output_type": "stream",
     "text": [
      "notice that the instructor and code are tuples now\n"
     ]
    },
    {
     "data": {
      "text/plain": [
       "{'limit': None,\n",
       " 'times': [],\n",
       " 'enrolled': 0,\n",
       " 'details': '',\n",
       " 'type': 'section',\n",
       " 'status_text': 'Open',\n",
       " 'section': '7',\n",
       " 'waiting': 0,\n",
       " 'instructor': ('Marcelle', 'Soares-Santos', 'marcelle@brandeis.edu'),\n",
       " 'coinstructors': (),\n",
       " 'code': ('PHYS', '280A'),\n",
       " 'subject': 'PHYS',\n",
       " 'coursenum': '280A',\n",
       " 'name': 'Advanced Readings and Research',\n",
       " 'independent_study': True,\n",
       " 'term': '1203',\n",
       " 'description': 'Specific sections for individual faculty members as requested. Usually offered every year.\\nStaff'}"
      ]
     },
     "execution_count": 6,
     "metadata": {},
     "output_type": "execute_result"
    }
   ],
   "source": [
    "print('notice that the instructor and code are tuples now')\n",
    "courses[1123]"
   ]
  },
  {
   "cell_type": "markdown",
   "metadata": {},
   "source": [
    "# PA01 - Python Data Analysis I\n",
    "Now we will show how to use straight python to explore the data set and answer some interesting questions. Next week we will start learning Pandas/Numpy which are packages that make it easier to explore large dataset efficiently.\n",
    "\n",
    "Here are some questions we can try to asnwer:\n",
    "* how many faculty taught COSI courses last year?\n",
    "* what is the total number of students taking COSI courses last year?\n",
    "* what was the median size of a COSI course last year (counting only those courses with at least 10 students)\n",
    "* create a list of tuples (E,S) where S is a subject and E is the number of students enrolled in courses in that subject, sort it and print the top 10. This shows the top 10 subjects in terms of number of students taught.\n",
    "* do the same as in (d) but print the top 10 subjects in terms of number of courses offered\n",
    "* do the same as (d) but print the top 10 subjects in terms of number of faculty teaching courses in that subject\n",
    "* list the top 20 faculty in terms of number of students they taught\n",
    "* list the top 20 courses in terms of number of students taking that course (where you combine different sections and semesters, i.e. just use the subject and course number)\n",
    "* Create your own interesting question (each team member creates their own) and use Python to answer that question."
   ]
  },
  {
   "cell_type": "code",
   "execution_count": null,
   "metadata": {},
   "outputs": [
    {
     "name": "stdout",
     "output_type": "stream",
     "text": [
      "27\n"
     ]
    }
   ],
   "source": [
    "#Gillian\n",
    "num_cosi_instructors = len({c['instructor'] for c in courses if (c['subject'] == 'COSI')})\n",
    "print(num_cosi_instructors)"
   ]
  },
  {
   "cell_type": "code",
   "execution_count": null,
   "metadata": {},
   "outputs": [
    {
     "name": "stdout",
     "output_type": "stream",
     "text": [
      "2223\n"
     ]
    }
   ],
   "source": [
    "#Gillian\n",
    "num_cosi_students = sum([e['enrolled'] for e in courses if e['subject'] == 'COSI'])\n",
    "print(num_cosi_students)"
   ]
  },
  {
   "cell_type": "code",
   "execution_count": null,
   "metadata": {},
   "outputs": [
    {
     "name": "stdout",
     "output_type": "stream",
     "text": [
      "38.0\n"
     ]
    }
   ],
   "source": [
    "# Gillian\n",
    "median = statistics.median(e['enrolled'] for e in courses if (e['subject'] == 'COSI') and (e['enrolled'] > 10))\n",
    "print(median)"
   ]
  },
  {
   "cell_type": "code",
   "execution_count": null,
   "metadata": {},
   "outputs": [
    {
     "name": "stdout",
     "output_type": "stream",
     "text": [
      "[(5318, 'HS'), (3085, 'BIOL'), (2766, 'BUS'), (2734, 'HWL'), (2322, 'CHEM'), (2315, 'ECON'), (2223, 'COSI'), (1785, 'MATH'), (1704, 'PSYC'), (1144, 'ANTH')]\n"
     ]
    }
   ],
   "source": [
    "# Gillian\n",
    "subject_list = list(all_subjects)\n",
    "enrolled_by_subject = []\n",
    "es_list = []\n",
    "for s in subject_list:\n",
    "    enrolled_by_subject.append(sum([e['enrolled'] for e in courses if e['subject'] == s]))\n",
    "for i in range(len(subject_list)):\n",
    "    es_list.append((enrolled_by_subject[i], subject_list[i]))\n",
    "es_list.sort(reverse = True)\n",
    "print(es_list[:10])"
   ]
  },
  {
   "cell_type": "code",
   "execution_count": null,
   "metadata": {},
   "outputs": [
    {
     "name": "stdout",
     "output_type": "stream",
     "text": [
      "[(170, 'HS'), (67, 'ENG'), (62, 'BIOL'), (58, 'BUS'), (56, 'MUS'), (56, 'ANTH'), (55, 'PSYC'), (53, 'MATH'), (49, 'FA'), (49, 'ECON')]\n"
     ]
    }
   ],
   "source": [
    "# Gillian\n",
    "names_by_subject = []\n",
    "ns_list = []\n",
    "for s in subject_list:\n",
    "    names_by_subject.append(len({n['name'] for n in courses if n['subject'] == s}))\n",
    "for i in range(len(subject_list)):\n",
    "    ns_list.append((names_by_subject[i], subject_list[i]))\n",
    "ns_list.sort(reverse = True)\n",
    "print(ns_list[:10])"
   ]
  },
  {
   "cell_type": "code",
   "execution_count": null,
   "metadata": {},
   "outputs": [
    {
     "name": "stdout",
     "output_type": "stream",
     "text": [
      "[(87, 'HS'), (67, 'BIOL'), (52, 'ECON'), (49, 'BCHM'), (47, 'HIST'), (47, 'BUS'), (46, 'BCBP'), (42, 'HWL'), (37, 'NEJS'), (37, 'MATH')]\n"
     ]
    }
   ],
   "source": [
    "#Anjola \n",
    "#list the top 20 faculty in terms of number of students they taught\n",
    "faculty_by_subject = []\n",
    "fs_list = []\n",
    "for s in subject_list:\n",
    "    faculty_by_subject.append(len({f['instructor'] for f in courses if f['subject'] == s}))\n",
    "for i in range(len(subject_list)):\n",
    "    fs_list.append((faculty_by_subject[i], subject_list[i]))\n",
    "fs_list.sort(reverse = True)\n",
    "print(fs_list[:10])"
   ]
  },
  {
   "cell_type": "code",
   "execution_count": null,
   "metadata": {},
   "outputs": [
    {
     "name": "stdout",
     "output_type": "stream",
     "text": [
      "['Leah Berkenwald', 'Kene Nathan Piasta', 'Stephanie Murray', 'Milos Dolnik', 'Maria de Boef Miara', 'Bryan Ingoglia', 'Rachel V.E. Woodruff', 'Timothy J Hickey', 'Daniel Breen', 'Melissa Kosinski-Collins', 'Claudia Novack', 'Antonella DiLillo', 'Jon Chilingerian', 'Ahmad Namini', 'Iraklis Tsekourakis', 'Geoffrey Clarke', 'Peter Mistark', 'Brenda Anderson', 'Colleen Hitchcock', 'Scott A. Redenius']\n"
     ]
    }
   ],
   "source": [
    "#Anjola\n",
    "#list the top 20 faculty in terms of number of students they taught\n",
    "\n",
    "all_faculty_list= list({f['instructor'] for f in courses}) \n",
    "top_fs_list = []\n",
    "enrolled_by_subject = []\n",
    "list_of_faculty = []\n",
    "for faculty in all_faculty_list:\n",
    "    enrolled_by_subject.append(sum([e['enrolled'] for e in courses if e['instructor'] == faculty]))\n",
    "for i in range(len(all_faculty_list)):\n",
    "    top_fs_list.append((enrolled_by_subject[i],all_faculty_list[i]))\n",
    "top_fs_list.sort(reverse = True)\n",
    "for f in top_fs_list[:20]:\n",
    "    list_of_faculty.append(f[1][0]+\" \" + f[1][1])\n",
    "print(list_of_faculty)"
   ]
  },
  {
   "cell_type": "code",
   "execution_count": null,
   "metadata": {},
   "outputs": [
    {
     "name": "stdout",
     "output_type": "stream",
     "text": [
      "['Navigating Health and Safety', 'Introduction to Navigating Health and Safety', 'General Biology Laboratory', 'Dissertation Research', 'Genetics and Genomics', 'Introduction to Problem Solving in Python', 'Introduction to Psychology', 'Cells and Organisms', 'Techniques of Calculus (a)', 'Financial Accounting', 'Organic Chemistry Laboratory I', 'Organic Chemistry Laboratory II', 'Organic Chemistry I', 'Statistics', 'Organic Chemistry II', 'Advanced Programming Techniques in Java', 'General Chemistry Laboratory I', 'Senior Research', 'Introduction to Microeconomics', 'Applied Linear Algebra']\n"
     ]
    }
   ],
   "source": [
    "#Anjola \n",
    "#list the top 20 courses in terms of number of students taking that course\n",
    "#(where you combine different sections and semesters,\n",
    "#i.e. just use the subject and coursenum)\n",
    "course_num_list = list({number['name'] for number in courses})\n",
    "student_enrolled_subject_coursenum = []\n",
    "tuple_top_course_list = []\n",
    "top_course_list = []\n",
    "for number in course_num_list:\n",
    "    student_enrolled_subject_coursenum.append(sum([course['enrolled'] for course in courses if course['name'] == number]))\n",
    "\n",
    "for i in range(len(course_num_list)):\n",
    "    tuple_top_course_list.append((student_enrolled_subject_coursenum[i],course_num_list[i]))\n",
    "\n",
    "tuple_top_course_list.sort(reverse = True)\n",
    "for f in tuple_top_course_list[:20]:\n",
    "    top_course_list.append(f[1])\n",
    "    \n",
    "print(top_course_list)"
   ]
  },
  {
   "cell_type": "code",
   "execution_count": 20,
   "metadata": {},
   "outputs": [
    {
     "name": "stdout",
     "output_type": "stream",
     "text": [
      "[(54, 'Human Anatomy'), (48, 'Biostatistics'), (32, 'Personal Safety/Self-Defense'), (30, 'Yoga'), (26, 'Introduction to Cognitive Neuroscience'), (23, 'The Biology of Morality'), (23, 'Money Management for Beginners'), (22, 'Statistics for Economic Analysis'), (21, 'Introduction to Probability and Statistics'), (19, 'Writing in Economics Practicum'), (18, 'Biomedical Ethics'), (15, 'Econometrics'), (15, 'Darwinian Dating: The Evolution of Human Attraction'), (14, 'Data Management for Data Science'), (13, 'Yogalates: A Fusion of Yoga/Pilates'), (13, 'The Cosmos'), (13, 'Sculpture Foundation: 3-D Design II'), (13, 'Cardio Workout'), (12, 'Oceanography'), (12, 'Morality and Capitalist Society')]\n"
     ]
    }
   ],
   "source": [
    "# Which courses has highest waitlist: this will allow us to know what we need to start expanding and creating more sections for\n",
    "course_list = list({number['name'] for number in courses})\n",
    "student_waitlist_course = []\n",
    "tuple_top_course_list = []\n",
    "top_course_list = []\n",
    "for name in course_num_list:\n",
    "    student_waitlist_course.append(sum([course['waiting'] for course in courses if course['name'] == name]))\n",
    "\n",
    "for i in range(len(course_num_list)):\n",
    "    tuple_top_course_list.append((student_waitlist_course[i],course_num_list[i]))\n",
    "tuple_top_course_list.sort(reverse = True)\n",
    "print(tuple_top_course_list[:20])\n"
   ]
  },
  {
   "cell_type": "code",
   "execution_count": null,
   "metadata": {},
   "outputs": [],
   "source": []
  }
 ],
 "metadata": {
  "kernelspec": {
   "display_name": "Python 3 (ipykernel)",
   "language": "python",
   "name": "python3"
  },
  "language_info": {
   "codemirror_mode": {
    "name": "ipython",
    "version": 3
   },
   "file_extension": ".py",
   "mimetype": "text/x-python",
   "name": "python",
   "nbconvert_exporter": "python",
   "pygments_lexer": "ipython3",
   "version": "3.10.0"
  }
 },
 "nbformat": 4,
 "nbformat_minor": 4
}
